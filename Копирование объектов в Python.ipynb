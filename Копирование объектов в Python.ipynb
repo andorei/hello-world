{
 "cells": [
  {
   "cell_type": "markdown",
   "metadata": {},
   "source": [
    "# Копирование объектов в Python"
   ]
  },
  {
   "cell_type": "markdown",
   "metadata": {},
   "source": [
    "Если присваивание в Python всегда создает указатель на объект, то как же получить копию объекта?\n",
    "\n",
    "Изменяемые объекты встроенных классов, например, `list`, `dict`, имеют метод `copy`. Объекты классов, определенных программистом, можно скопировать с помощью функций модуля `copy`.\n",
    "\n",
    "Но прежде чем продемонстрировать копирование объектов, покажу, когда оно не работает. Копирование не работает для неизменяемых (immutable) объектов, например, для объектов классов `int`, `str`, и других. Метод `copy` у этих классов отсутствует:"
   ]
  },
  {
   "cell_type": "code",
   "execution_count": 1,
   "metadata": {},
   "outputs": [
    {
     "data": {
      "text/plain": [
       "False"
      ]
     },
     "execution_count": 1,
     "metadata": {},
     "output_type": "execute_result"
    }
   ],
   "source": [
    "(\n",
    "    hasattr(int, 'copy')\n",
    "    or hasattr(float, 'copy')\n",
    "    or hasattr(str, 'copy')\n",
    "    or hasattr(tuple, 'copy')\n",
    "    or hasattr(bool, 'copy')\n",
    ")"
   ]
  },
  {
   "cell_type": "markdown",
   "metadata": {},
   "source": [
    "Функция `copy` модуля `copy`, хотя и не возвращает ошибок при использовании с неизменяемыми объектами, возвращает оригинальный объект, а не копию. Это легко видеть с помощью функции `id()`:"
   ]
  },
  {
   "cell_type": "code",
   "execution_count": 2,
   "metadata": {},
   "outputs": [
    {
     "name": "stdout",
     "output_type": "stream",
     "text": [
      "x 1 1851482336\n",
      "y 1 1851482336\n",
      "x hi 1814976807296\n",
      "y hi 1814976807296\n",
      "x (0, 1) 1815012745160\n",
      "y (0, 1) 1815012745160\n"
     ]
    }
   ],
   "source": [
    "from copy import copy\n",
    "\n",
    "x = 1               # int\n",
    "y = copy(x)\n",
    "print('x', x, id(x))\n",
    "print('y', y, id(y))\n",
    "\n",
    "x = 'hi'            # str\n",
    "y = copy(x)\n",
    "print('x', x, id(x))\n",
    "print('y', y, id(y))\n",
    "\n",
    "x = (0, 1)          # tuple\n",
    "y = copy(x)\n",
    "print('x', x, id(x))\n",
    "print('y', y, id(y))"
   ]
  },
  {
   "cell_type": "markdown",
   "metadata": {},
   "source": [
    "Почему нельзя скопировать неизменяемый объект? Потому что нет никакого смысла делать это. Ведь состояние такого объекта, его значение, не может измениться, значит, для всех возможных целей достаточно иметь один экземпляр неизменяемого объекта с данным значением. Таким образом оптимизируется использование памяти.\n",
    "\n",
    "В частности, экземпляры `True` и `False` класса `bool` на протяжении выполнения программы имеют одни и те же идентификаторы, независисмо от способа, которым они получены:"
   ]
  },
  {
   "cell_type": "code",
   "execution_count": 3,
   "metadata": {},
   "outputs": [
    {
     "name": "stdout",
     "output_type": "stream",
     "text": [
      "1850990848 1850990816\n",
      "1850990848 1850990816\n",
      "1850990848 1850990816\n"
     ]
    }
   ],
   "source": [
    "print(id(False), id(True))\n",
    "print(id(1 != 1), id(1 == 1))\n",
    "print(id(bool()), id(bool(1)))"
   ]
  },
  {
   "cell_type": "markdown",
   "metadata": {},
   "source": [
    "Но вернемся к копированию объектов.\n",
    "\n",
    "Получим копию изменяемого объекта - списка - с помощью метода `copy` и свяжем ее с новым именем."
   ]
  },
  {
   "cell_type": "code",
   "execution_count": 4,
   "metadata": {},
   "outputs": [
    {
     "name": "stdout",
     "output_type": "stream",
     "text": [
      "x [0, 1] 1815013997576 1851482304 1851482336\n",
      "y [0, 1] 1815013837960 1851482304 1851482336\n"
     ]
    }
   ],
   "source": [
    "x = [0, 1]\n",
    "y = x.copy()\n",
    "print('x', x, id(x), id(x[0]), id(x[1]))\n",
    "print('y', y, id(y), id(y[0]), id(y[1]))"
   ]
  },
  {
   "cell_type": "markdown",
   "metadata": {},
   "source": [
    "Как видим, элементы оригинального списка `x` и списка-копии `y` после копирования указывают на одни и те же объекты, но сами списки - разные. И изменения в них вносятся независимо:"
   ]
  },
  {
   "cell_type": "code",
   "execution_count": 5,
   "metadata": {},
   "outputs": [
    {
     "name": "stdout",
     "output_type": "stream",
     "text": [
      "x [2, 1] 1815013997576 1851482368 1851482336\n",
      "y [0, 3] 1815013837960 1851482304 1851482400\n"
     ]
    }
   ],
   "source": [
    "x[0] = 2\n",
    "y[1] = 3\n",
    "print('x', x, id(x), id(x[0]), id(x[1]))\n",
    "print('y', y, id(y), id(y[0]), id(y[1]))"
   ]
  },
  {
   "cell_type": "markdown",
   "metadata": {},
   "source": [
    "Однако, в случае двумерного списка (и списков б**о**льших размерностей) копирования с помощью метода `copy` недостаточно для получения списка-копии, полностью независимого от оригинала.\n",
    "\n",
    "Продемонстрирую это:"
   ]
  },
  {
   "cell_type": "code",
   "execution_count": 6,
   "metadata": {},
   "outputs": [
    {
     "name": "stdout",
     "output_type": "stream",
     "text": [
      "x [[0, 0], [1, 1]] 1815013997448 1815013997256 1815013997704\n",
      "y [[0, 0], [1, 1]] 1815013837896 1815013997256 1815013997704\n"
     ]
    }
   ],
   "source": [
    "x = [[0, 0], [1, 1]]\n",
    "y = x.copy()\n",
    "print('x', x, id(x), id(x[0]), id(x[1]))\n",
    "print('y', y, id(y), id(y[0]), id(y[1]))"
   ]
  },
  {
   "cell_type": "markdown",
   "metadata": {},
   "source": [
    "Метод `copy` создал список-копию, содержащий указатели на вложенные списки `[0, 0]` и `[1, 1]`. Но сами вложенные списки не были скопированы, что видно по одинаковым `id` элементов `x[0]` и `y[0]` и элементов `x[1]` и `y[1]`. Следовательно, получить доступ к элементам вложенных списков и изменить их можно как через оригинальный список `x`, так и через список-копию `y`:"
   ]
  },
  {
   "cell_type": "code",
   "execution_count": 7,
   "metadata": {},
   "outputs": [
    {
     "name": "stdout",
     "output_type": "stream",
     "text": [
      "x [[9, 0], [9, 1]] 1815013997448 1815013997256 1815013997704\n",
      "y [[9, 0], [9, 1]] 1815013837896 1815013997256 1815013997704\n"
     ]
    }
   ],
   "source": [
    "x[0][0] = 9\n",
    "y[1][0] = 9\n",
    "print('x', x, id(x), id(x[0]), id(x[1]))\n",
    "print('y', y, id(y), id(y[0]), id(y[1]))"
   ]
  },
  {
   "cell_type": "markdown",
   "metadata": {},
   "source": [
    "Разумеется, вложенные словари демонстрируют такое же поведение. А также словари, значениями которых являются списки, или списки, элементами которых являются словари (или другие изменяемые объекты).\n",
    "\n",
    "Пока элементы копируемого списка или словаря указывают на неизменяемые объекты, оригинал и копия, полученная с помощью метода `copy`, могут изменяться независимо. Потому что все, что мы можем сделать в таком случае - это присвоить элементу списка или словаря, указывающему на неизменяемый объект, другой объект. Но если элементы копируемого списка или словаря указывают на изменяемые объекты, мы можем получить доступ к последним и изменить их как через копию, так и через оригинал. В этом случае копия и оригинал не являются полностью независимыми.\n",
    "\n",
    "Так же ведут себя при копировании изменяемые объекты классов, определенных программистом. Пока атрибуты объекта указывают на неизменяемые объекты, значения атрибутов у оригинального объекта и объекта-копии независимы. Воспользуемся функцией `copy` из модуля `copy` для копирования объекта:"
   ]
  },
  {
   "cell_type": "code",
   "execution_count": 8,
   "metadata": {},
   "outputs": [
    {
     "name": "stdout",
     "output_type": "stream",
     "text": [
      "obj <__main__.Cls object at 0x000001A697438DA0> 1815013985696 привет 1815013944624\n",
      "xyz <__main__.Cls object at 0x000001A697438F60> 1815013986144 привет 1815013944624\n"
     ]
    }
   ],
   "source": [
    "from copy import copy\n",
    "\n",
    "class Cls(object):\n",
    "    pass\n",
    "\n",
    "obj = Cls()\n",
    "obj.greeting = 'привет'\n",
    "xyz = copy(obj)\n",
    "print('obj', obj, id(obj), obj.greeting, id(obj.greeting))\n",
    "print('xyz', xyz, id(xyz), xyz.greeting, id(xyz.greeting))"
   ]
  },
  {
   "cell_type": "markdown",
   "metadata": {},
   "source": [
    "Теперь изменим значение атрибута `greeting` объекта `obj` и убедимся, что атрибут объекта `xyz` остался без изменений:"
   ]
  },
  {
   "cell_type": "code",
   "execution_count": 9,
   "metadata": {},
   "outputs": [
    {
     "name": "stdout",
     "output_type": "stream",
     "text": [
      "obj <__main__.Cls object at 0x000001A697438DA0> 1815013985696 salut 1815013848992\n",
      "xyz <__main__.Cls object at 0x000001A697438F60> 1815013986144 привет 1815013944624\n"
     ]
    }
   ],
   "source": [
    "obj.greeting = 'salut'\n",
    "print('obj', obj, id(obj), obj.greeting, id(obj.greeting))\n",
    "print('xyz', xyz, id(xyz), xyz.greeting, id(xyz.greeting))"
   ]
  },
  {
   "cell_type": "markdown",
   "metadata": {},
   "source": [
    "Пусть теперь атрибут объекта указывает на изменяемый объект, например, список. Получим копию объекта:"
   ]
  },
  {
   "cell_type": "code",
   "execution_count": 10,
   "metadata": {},
   "outputs": [
    {
     "name": "stdout",
     "output_type": "stream",
     "text": [
      "obj <__main__.Cls object at 0x000001A697456588> 1815014106504 ['привет', 'salut'] 1815013994760\n",
      "xyz <__main__.Cls object at 0x000001A697438DA0> 1815013985696 ['привет', 'salut'] 1815013994760\n"
     ]
    }
   ],
   "source": [
    "obj = Cls()\n",
    "obj.greeting = ['привет', 'salut']\n",
    "xyz = copy(obj)\n",
    "print('obj', obj, id(obj), obj.greeting, id(obj.greeting))\n",
    "print('xyz', xyz, id(xyz), xyz.greeting, id(xyz.greeting))"
   ]
  },
  {
   "cell_type": "markdown",
   "metadata": {},
   "source": [
    "Изменяемый объект, список, на который указывает атрибут `greeting`, можно изменять и получать (читать) как через оригинальный объект, так и через объект-копию:"
   ]
  },
  {
   "cell_type": "code",
   "execution_count": 11,
   "metadata": {},
   "outputs": [
    {
     "name": "stdout",
     "output_type": "stream",
     "text": [
      "obj <__main__.Cls object at 0x000001A697456588> 1815014106504 ['привет', 'hello'] 1815013994760\n",
      "xyz <__main__.Cls object at 0x000001A697438DA0> 1815013985696 ['привет', 'hello'] 1815013994760\n"
     ]
    }
   ],
   "source": [
    "obj.greeting[1] = 'hello'\n",
    "print('obj', obj, id(obj), obj.greeting, id(obj.greeting))\n",
    "print('xyz', xyz, id(xyz), xyz.greeting, id(xyz.greeting))"
   ]
  },
  {
   "cell_type": "markdown",
   "metadata": {},
   "source": [
    "Функция `copy` из модуля `copy`, как и метод `copy` изменяемых объектов, выполняют *поверхностное копирование*. При этом копируется сам объект с его атрибутами, которые являются указателями на другие объекты. Эти последние объекты не копируются.\n",
    "\n",
    "Чтобы скопировать объект и все объекты, на которые указывают его атрибуты, а также все объекты, на которые указывают их атрибуты, и так далее, нужно воспользоваться *глубоким копированием*.\n",
    "\n",
    "В только что рассмотренных примерах заменим поверхностное копирование на глубокое:"
   ]
  },
  {
   "cell_type": "code",
   "execution_count": 12,
   "metadata": {},
   "outputs": [
    {
     "name": "stdout",
     "output_type": "stream",
     "text": [
      "x [[0, 0], [1, 1]] 1815014067080 1815014064776 1815014064968\n",
      "y [[0, 0], [1, 1]] 1815013996744 1815012523080 1815012562568\n"
     ]
    }
   ],
   "source": [
    "from copy import deepcopy\n",
    "\n",
    "x = [[0, 0], [1, 1]]\n",
    "y = deepcopy(x)\n",
    "print('x', x, id(x), id(x[0]), id(x[1]))\n",
    "print('y', y, id(y), id(y[0]), id(y[1]))"
   ]
  },
  {
   "cell_type": "markdown",
   "metadata": {},
   "source": [
    "Мы видим, что теперь элементы `x[0]` и `y[0]`, а также элементы `x[1]` и `y[1]`, указывают на разные объекты. Значит, эти объекты - вложенные списки - теперь изменяются независимо:"
   ]
  },
  {
   "cell_type": "code",
   "execution_count": 13,
   "metadata": {},
   "outputs": [
    {
     "name": "stdout",
     "output_type": "stream",
     "text": [
      "x [[9, 0], [1, 1]] 1815014067080 1815014064776 1815014064968\n",
      "y [[0, 0], [9, 1]] 1815013996744 1815012523080 1815012562568\n"
     ]
    }
   ],
   "source": [
    "x[0][0] = 9\n",
    "y[1][0] = 9\n",
    "print('x', x, id(x), id(x[0]), id(x[1]))\n",
    "print('y', y, id(y), id(y[0]), id(y[1]))"
   ]
  },
  {
   "cell_type": "markdown",
   "metadata": {},
   "source": [
    "Пример с глубоким копированием объекта с атрибутом - списком:"
   ]
  },
  {
   "cell_type": "code",
   "execution_count": 14,
   "metadata": {},
   "outputs": [
    {
     "name": "stdout",
     "output_type": "stream",
     "text": [
      "obj <__main__.Cls object at 0x000001A697456940> 1815014107456 ['привет', 'salut'] 1815014067784\n",
      "xyz <__main__.Cls object at 0x000001A697456E10> 1815014108688 ['привет', 'salut'] 1815014067336\n"
     ]
    }
   ],
   "source": [
    "obj = Cls()\n",
    "obj.greeting = ['привет', 'salut']\n",
    "xyz = deepcopy(obj)\n",
    "print('obj', obj, id(obj), obj.greeting, id(obj.greeting))\n",
    "print('xyz', xyz, id(xyz), xyz.greeting, id(xyz.greeting))"
   ]
  },
  {
   "cell_type": "markdown",
   "metadata": {},
   "source": [
    "Теперь списки, на которые указывает атрибут `greeting` у объекта-оригинала и объекта-копии, - разные (так как имеют разные `id`). Следовательно, они изменяются независимо: "
   ]
  },
  {
   "cell_type": "code",
   "execution_count": 15,
   "metadata": {},
   "outputs": [
    {
     "name": "stdout",
     "output_type": "stream",
     "text": [
      "obj <__main__.Cls object at 0x000001A697456940> 1815014107456 ['привет', 'hello'] 1815014067784\n",
      "xyz <__main__.Cls object at 0x000001A697456E10> 1815014108688 ['привет', 'salut'] 1815014067336\n"
     ]
    }
   ],
   "source": [
    "obj.greeting[1] = 'hello'\n",
    "print('obj', obj, id(obj), obj.greeting, id(obj.greeting))\n",
    "print('xyz', xyz, id(xyz), xyz.greeting, id(xyz.greeting))"
   ]
  },
  {
   "cell_type": "markdown",
   "metadata": {},
   "source": [
    "Подведем итог:\n",
    "- в Python возможно копирование только изменяемых объектов, а неизменяемые объекты скопировать нельзя,\n",
    "- копирование объектов с помощью метода `copy` или функции `copy` модуля `copy` является поверхностным в том смысле, что атрибуты объекта-копии указывают на те же самые объекты, на которые указывают атрибуты объекта-оригинала,\n",
    "- для копирования объекта и рекурсивно всех объектов, на которые он ссылается, существует глубокое копирование, реализуемое функцией `deepcopy` модуля `copy`."
   ]
  }
 ],
 "metadata": {
  "kernelspec": {
   "display_name": "Python 3",
   "language": "python",
   "name": "python3"
  },
  "language_info": {
   "codemirror_mode": {
    "name": "ipython",
    "version": 3
   },
   "file_extension": ".py",
   "mimetype": "text/x-python",
   "name": "python",
   "nbconvert_exporter": "python",
   "pygments_lexer": "ipython3",
   "version": "3.6.3"
  }
 },
 "nbformat": 4,
 "nbformat_minor": 2
}
